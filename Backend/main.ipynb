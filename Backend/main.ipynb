{
 "cells": [
  {
   "cell_type": "code",
   "execution_count": 1,
   "metadata": {},
   "outputs": [
    {
     "name": "stdout",
     "output_type": "stream",
     "text": [
      "New pypi version: 0.2.0.9 (current: 0.1.9.2) | pip install -U g4f\n"
     ]
    }
   ],
   "source": [
    "import gpt\n",
    "import search\n",
    "import video\n",
    "\n",
    "from dotenv import load_dotenv\n",
    "from moviepy.config import change_settings"
   ]
  },
  {
   "cell_type": "code",
   "execution_count": null,
   "metadata": {},
   "outputs": [],
   "source": [
    "import os\n",
    "load_dotenv(r\"C:\\Users\\sreej\\OneDrive\\Desktop\\PROJECTS\\YT SERIES PRACTICE\\EXTRAORDINARY\\AUTOMATION\\YOUTUBE SHORTS\\MoneyPrinter\\.env\")\n",
    "\n",
    "ASSEMBLY_AI_API_KEY = os.getenv(\"ASSEMBLY_AI_API_KEY\")\n",
    "PEXELS_API_KEY = os.getenv(\"PEXELS_API_KEY\")\n",
    "IMAGEMAGICK_BINARY = os.getenv(\"IMAGEMAGICK_BINARY\")\n",
    "\n",
    "print(ASSEMBLY_AI_API_KEY, PEXELS_API_KEY, IMAGEMAGICK_BINARY)"
   ]
  },
  {
   "cell_type": "code",
   "execution_count": 3,
   "metadata": {},
   "outputs": [],
   "source": [
    "topic = \"how to make money online\"\n",
    "script = \"Discover diverse online income avenues with this guide! Freelancing offers a platform for writers, designers, programmers, and marketers to showcase skills and secure clients. Dive into lucrative affiliate marketing by promoting products for commissions. Consider starting an e-commerce business to tap into the global market. Content creation, whether through blogging, vlogging, or online courses, monetizes expertise. Emphasizing diversification, explore multiple income streams for financial stability. Making money online demands dedication, perseverance, and learning. It's not a quick fix, but with the right mindset, you can build a sustainable online income. For more insights or questions, leave a comment below. Happy money-making\"\n",
    "print(script)"
   ]
  },
  {
   "cell_type": "code",
   "execution_count": 6,
   "metadata": {},
   "outputs": [
    {
     "name": "stdout",
     "output_type": "stream",
     "text": [
      "[\"stock videos how to make money online\", \"stock videos passive income online\", \"stock videos ways to make money online\", \"stock videos blogging for money\", \"stock videos online course creation\", \"stock videos selling digital products online\", \"stock videos making money online tips\", \"stock videos monetizing a blog\", \"stock videos creating online courses\", \"stock videos selling digital products\"]\n",
      "\u001b[36m\n",
      "Generated 10 search terms: stock videos how to make money online, stock videos passive income online, stock videos ways to make money online, stock videos blogging for money, stock videos online course creation, stock videos selling digital products online, stock videos making money online tips, stock videos monetizing a blog, stock videos creating online courses, stock videos selling digital products\u001b[0m\n"
     ]
    }
   ],
   "source": [
    "tags = gpt.get_search_terms(topic, 10, script)"
   ]
  },
  {
   "cell_type": "code",
   "execution_count": 7,
   "metadata": {},
   "outputs": [
    {
     "name": "stdout",
     "output_type": "stream",
     "text": [
      "\u001b[36m\t=> https://player.vimeo.com/external/493894149.sd.mp4?s=c882caa9e51f67e259185992e97340c902c65624&profile_id=164&oauth2_token_id=57447761\u001b[0m\n",
      "\u001b[36m\t=> https://player.vimeo.com/external/524907174.sd.mp4?s=366c1fa33f8a83a58e42073b6254ce0fda956b6c&profile_id=164&oauth2_token_id=57447761\u001b[0m\n",
      "\u001b[36m\t=> https://player.vimeo.com/external/493894149.sd.mp4?s=c882caa9e51f67e259185992e97340c902c65624&profile_id=164&oauth2_token_id=57447761\u001b[0m\n",
      "\u001b[36m\t=> https://player.vimeo.com/external/539033394.sd.mp4?s=8813ecbaf896b6ea024b4fff6eab1246e81758ac&profile_id=164&oauth2_token_id=57447761\u001b[0m\n",
      "\u001b[36m\t=> https://player.vimeo.com/external/443939445.hd.mp4?s=0ff84e710d7e773ea6810aa4b02fde789cb19c4f&profile_id=170&oauth2_token_id=57447761\u001b[0m\n",
      "\u001b[36m\t=> https://player.vimeo.com/external/464878516.sd.mp4?s=89b1770030307e0c26a0d833b8d72681295c7a09&profile_id=164&oauth2_token_id=57447761\u001b[0m\n",
      "\u001b[36m\t=> https://player.vimeo.com/external/493894149.sd.mp4?s=c882caa9e51f67e259185992e97340c902c65624&profile_id=164&oauth2_token_id=57447761\u001b[0m\n",
      "\u001b[36m\t=> https://player.vimeo.com/external/484412280.hd.mp4?s=8a7b8b6b0f07a9d371dcf6c0a7c333a64ebf3150&profile_id=175&oauth2_token_id=57447761\u001b[0m\n",
      "\u001b[36m\t=> https://player.vimeo.com/external/524907174.sd.mp4?s=366c1fa33f8a83a58e42073b6254ce0fda956b6c&profile_id=164&oauth2_token_id=57447761\u001b[0m\n",
      "\u001b[36m\t=> https://player.vimeo.com/external/542072210.hd.mp4?s=e51e3c73f3c1c9a833c9c424e5d069921dcf72de&profile_id=174&oauth2_token_id=57447761\u001b[0m\n"
     ]
    }
   ],
   "source": [
    "links = search.search_for_stock_videos(tags, api_key=PEXELS_API_KEY)"
   ]
  },
  {
   "cell_type": "code",
   "execution_count": 7,
   "metadata": {},
   "outputs": [
    {
     "name": "stdout",
     "output_type": "stream",
     "text": [
      "./temp/1.mp4\n",
      "./temp/2.mp4\n",
      "./temp/3.mp4\n",
      "./temp/4.mp4\n",
      "./temp/5.mp4\n",
      "./temp/6.mp4\n",
      "./temp/7.mp4\n",
      "./temp/8.mp4\n",
      "./temp/9.mp4\n",
      "./temp/10.mp4\n"
     ]
    }
   ],
   "source": [
    "video_paths = video.save_video(links)"
   ]
  },
  {
   "cell_type": "code",
   "execution_count": 10,
   "metadata": {},
   "outputs": [],
   "source": [
    "# speech_file_path = video.text_to_speech(script)\n",
    "speech_file_path = \"output.mp3\""
   ]
  },
  {
   "cell_type": "code",
   "execution_count": 13,
   "metadata": {},
   "outputs": [
    {
     "name": "stdout",
     "output_type": "stream",
     "text": [
      "\u001b[32m[+] Subtitles generated.\u001b[0m\n"
     ]
    }
   ],
   "source": [
    "subtitle_path = video.generate_subtitles(\"output.mp3\", ASSEMBLY_AI_API_KEY)"
   ]
  },
  {
   "cell_type": "code",
   "execution_count": 9,
   "metadata": {},
   "outputs": [
    {
     "name": "stdout",
     "output_type": "stream",
     "text": [
      "\u001b[34m[+] Combining videos...\u001b[0m\n",
      "\u001b[34m[+] Each video will be 4.735 seconds long.\u001b[0m\n",
      "Moviepy - Building video ./temp/combined_video.mp4.\n",
      "Moviepy - Writing video ./temp/combined_video.mp4\n",
      "\n"
     ]
    },
    {
     "name": "stderr",
     "output_type": "stream",
     "text": [
      "                                                                \r"
     ]
    },
    {
     "name": "stdout",
     "output_type": "stream",
     "text": [
      "Moviepy - Done !\n",
      "Moviepy - video ready ./temp/combined_video.mp4\n"
     ]
    }
   ],
   "source": [
    "combined_video_path = video.combine_videos(video_paths, video.AudioFileClip(speech_file_path).duration)"
   ]
  },
  {
   "cell_type": "code",
   "execution_count": 12,
   "metadata": {},
   "outputs": [
    {
     "name": "stdout",
     "output_type": "stream",
     "text": [
      "Moviepy - Building video ./temp/output.mp4.\n",
      "MoviePy - Writing audio in outputTEMP_MPY_wvf_snd.mp3\n"
     ]
    },
    {
     "name": "stderr",
     "output_type": "stream",
     "text": [
      "                                                                     \r"
     ]
    },
    {
     "name": "stdout",
     "output_type": "stream",
     "text": [
      "MoviePy - Done.\n",
      "Moviepy - Writing video ./temp/output.mp4\n",
      "\n"
     ]
    },
    {
     "name": "stderr",
     "output_type": "stream",
     "text": [
      "                                                                \r"
     ]
    },
    {
     "name": "stdout",
     "output_type": "stream",
     "text": [
      "Moviepy - Done !\n",
      "Moviepy - video ready ./temp/output.mp4\n"
     ]
    },
    {
     "data": {
      "text/plain": [
       "'main_output.mp4'"
      ]
     },
     "execution_count": 12,
     "metadata": {},
     "output_type": "execute_result"
    }
   ],
   "source": [
    "video.generate_video(combined_video_path, speech_file_path, subtitle_path)"
   ]
  }
 ],
 "metadata": {
  "kernelspec": {
   "display_name": "Python 3",
   "language": "python",
   "name": "python3"
  },
  "language_info": {
   "codemirror_mode": {
    "name": "ipython",
    "version": 3
   },
   "file_extension": ".py",
   "mimetype": "text/x-python",
   "name": "python",
   "nbconvert_exporter": "python",
   "pygments_lexer": "ipython3",
   "version": "3.9.13"
  }
 },
 "nbformat": 4,
 "nbformat_minor": 2
}
